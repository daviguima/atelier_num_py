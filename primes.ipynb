{
 "cells": [
  {
   "cell_type": "code",
   "execution_count": 1,
   "id": "45dbdec0-e2da-41ac-bc7e-4465711669e1",
   "metadata": {},
   "outputs": [],
   "source": [
    "# https://docs.python.org/3/library/concurrent.futures.html#processpoolexecutor-example\n",
    "import concurrent.futures\n",
    "from is_prime import is_prime as ip\n",
    "import math"
   ]
  },
  {
   "cell_type": "code",
   "execution_count": 2,
   "id": "ca82c903-2bbc-43e1-abc4-f0f6f057dfb8",
   "metadata": {},
   "outputs": [],
   "source": [
    "# https://en.wikipedia.org/wiki/List_of_prime_numbers\n",
    "PRIMES = [\n",
    "    112272535095293,\n",
    "    112582705942171,\n",
    "    112272535095293,\n",
    "    115280095190773,\n",
    "    115797848077099,\n",
    "    109972689928419,\n",
    "    235456453767789,\n",
    "    635445635646434,\n",
    "    489573896344673]"
   ]
  },
  {
   "cell_type": "code",
   "execution_count": 3,
   "id": "26ce572c-28e0-45bd-9cc9-3830128904c9",
   "metadata": {},
   "outputs": [],
   "source": [
    "def _prime(n):\n",
    "    if n < 2:\n",
    "        return False\n",
    "    if n == 2:\n",
    "        return True\n",
    "    if n % 2 == 0:\n",
    "        return False\n",
    "\n",
    "    sqrt_n = int(math.floor(math.sqrt(n)))\n",
    "    for i in range(3, sqrt_n + 1, 2):\n",
    "        if n % i == 0:\n",
    "            return False\n",
    "    return True"
   ]
  },
  {
   "cell_type": "code",
   "execution_count": 4,
   "id": "16183579-805b-40fd-b8c4-306acccee8cd",
   "metadata": {},
   "outputs": [],
   "source": [
    "def parallel_main():\n",
    "    with concurrent.futures.ProcessPoolExecutor() as executor:\n",
    "        for number, prime in zip(PRIMES, executor.map(ip, PRIMES)):\n",
    "            print('%d is prime: %s' % (number, prime))"
   ]
  },
  {
   "cell_type": "code",
   "execution_count": 5,
   "id": "21326c38-49f4-46b2-8873-8d9d4c19301a",
   "metadata": {},
   "outputs": [],
   "source": [
    "def simple_main():\n",
    "    for number, prime in zip(PRIMES, map(_prime, PRIMES)):\n",
    "            print('%d is prime: %s' % (number, prime))"
   ]
  },
  {
   "cell_type": "code",
   "execution_count": 6,
   "id": "ab1b9d28-ac2c-496e-a8a5-0caff3c018de",
   "metadata": {},
   "outputs": [
    {
     "name": "stdout",
     "output_type": "stream",
     "text": [
      "112272535095293 is prime: True\n",
      "112582705942171 is prime: True\n",
      "112272535095293 is prime: True\n",
      "115280095190773 is prime: True\n",
      "115797848077099 is prime: True\n",
      "109972689928419 is prime: False\n",
      "235456453767789 is prime: False\n",
      "635445635646434 is prime: False\n",
      "489573896344673 is prime: False\n",
      "Wall time: 2.34 s\n"
     ]
    }
   ],
   "source": [
    "%time simple_main()"
   ]
  },
  {
   "cell_type": "code",
   "execution_count": 7,
   "id": "55389331-0571-4317-9509-87041a46dd3b",
   "metadata": {},
   "outputs": [
    {
     "name": "stdout",
     "output_type": "stream",
     "text": [
      "112272535095293 is prime: True\n",
      "112582705942171 is prime: True\n",
      "112272535095293 is prime: True\n",
      "115280095190773 is prime: True\n",
      "115797848077099 is prime: True\n",
      "109972689928419 is prime: False\n",
      "235456453767789 is prime: False\n",
      "635445635646434 is prime: False\n",
      "489573896344673 is prime: False\n",
      "Wall time: 781 ms\n"
     ]
    }
   ],
   "source": [
    "%time parallel_main()"
   ]
  },
  {
   "cell_type": "code",
   "execution_count": null,
   "id": "5fee91a6-6ff4-41b3-8b86-bdd018a472b9",
   "metadata": {},
   "outputs": [],
   "source": []
  }
 ],
 "metadata": {
  "kernelspec": {
   "display_name": "Python 3 (ipykernel)",
   "language": "python",
   "name": "python3"
  },
  "language_info": {
   "codemirror_mode": {
    "name": "ipython",
    "version": 3
   },
   "file_extension": ".py",
   "mimetype": "text/x-python",
   "name": "python",
   "nbconvert_exporter": "python",
   "pygments_lexer": "ipython3",
   "version": "3.7.13"
  }
 },
 "nbformat": 4,
 "nbformat_minor": 5
}
